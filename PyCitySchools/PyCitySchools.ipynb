{
 "cells": [
  {
   "cell_type": "markdown",
   "metadata": {},
   "source": [
    "### Note\n",
    "* Instructions have been included for each segment. You do not have to follow them exactly, but they are included to help you think through the steps."
   ]
  },
  {
   "cell_type": "code",
   "execution_count": 1,
   "metadata": {},
   "outputs": [],
   "source": [
    "# Dependencies and Setup\n",
    "import pandas as pd\n",
    "\n",
    "#check Pandas version \n",
    "#print(pd.__version__)\n",
    "\n",
    "# File to Load (Remember to Change These)\n",
    "school_data_to_load = \"Resources/schools_complete.csv\"\n",
    "student_data_to_load = \"Resources/students_complete.csv\"\n",
    "\n",
    "# Read School and Student Data File and store into Pandas DataFrames\n",
    "school_data = pd.read_csv(school_data_to_load)\n",
    "student_data = pd.read_csv(student_data_to_load)\n",
    "\n",
    "# Combine the data into a single dataset.  \n",
    "school_data_complete_df = pd.merge(student_data, school_data, how=\"left\", on=[\"school_name\", \"school_name\"])\n",
    "#school_data_complete_df.head()"
   ]
  },
  {
   "cell_type": "code",
   "execution_count": 2,
   "metadata": {},
   "outputs": [
    {
     "data": {
      "text/html": [
       "<div>\n",
       "<style scoped>\n",
       "    .dataframe tbody tr th:only-of-type {\n",
       "        vertical-align: middle;\n",
       "    }\n",
       "\n",
       "    .dataframe tbody tr th {\n",
       "        vertical-align: top;\n",
       "    }\n",
       "\n",
       "    .dataframe thead th {\n",
       "        text-align: right;\n",
       "    }\n",
       "</style>\n",
       "<table border=\"1\" class=\"dataframe\">\n",
       "  <thead>\n",
       "    <tr style=\"text-align: right;\">\n",
       "      <th></th>\n",
       "      <th>student_id</th>\n",
       "      <th>school_name</th>\n",
       "      <th>reading_score</th>\n",
       "      <th>math_score</th>\n",
       "      <th>school_id</th>\n",
       "      <th>type</th>\n",
       "      <th>size</th>\n",
       "      <th>budget</th>\n",
       "    </tr>\n",
       "  </thead>\n",
       "  <tbody>\n",
       "    <tr>\n",
       "      <th>0</th>\n",
       "      <td>0</td>\n",
       "      <td>Huang High School</td>\n",
       "      <td>66</td>\n",
       "      <td>79</td>\n",
       "      <td>0</td>\n",
       "      <td>District</td>\n",
       "      <td>2917</td>\n",
       "      <td>1910635</td>\n",
       "    </tr>\n",
       "    <tr>\n",
       "      <th>1</th>\n",
       "      <td>1</td>\n",
       "      <td>Huang High School</td>\n",
       "      <td>94</td>\n",
       "      <td>61</td>\n",
       "      <td>0</td>\n",
       "      <td>District</td>\n",
       "      <td>2917</td>\n",
       "      <td>1910635</td>\n",
       "    </tr>\n",
       "    <tr>\n",
       "      <th>2</th>\n",
       "      <td>2</td>\n",
       "      <td>Huang High School</td>\n",
       "      <td>90</td>\n",
       "      <td>60</td>\n",
       "      <td>0</td>\n",
       "      <td>District</td>\n",
       "      <td>2917</td>\n",
       "      <td>1910635</td>\n",
       "    </tr>\n",
       "    <tr>\n",
       "      <th>3</th>\n",
       "      <td>3</td>\n",
       "      <td>Huang High School</td>\n",
       "      <td>67</td>\n",
       "      <td>58</td>\n",
       "      <td>0</td>\n",
       "      <td>District</td>\n",
       "      <td>2917</td>\n",
       "      <td>1910635</td>\n",
       "    </tr>\n",
       "    <tr>\n",
       "      <th>4</th>\n",
       "      <td>4</td>\n",
       "      <td>Huang High School</td>\n",
       "      <td>97</td>\n",
       "      <td>84</td>\n",
       "      <td>0</td>\n",
       "      <td>District</td>\n",
       "      <td>2917</td>\n",
       "      <td>1910635</td>\n",
       "    </tr>\n",
       "  </tbody>\n",
       "</table>\n",
       "</div>"
      ],
      "text/plain": [
       "   student_id        school_name  reading_score  math_score  school_id  \\\n",
       "0           0  Huang High School             66          79          0   \n",
       "1           1  Huang High School             94          61          0   \n",
       "2           2  Huang High School             90          60          0   \n",
       "3           3  Huang High School             67          58          0   \n",
       "4           4  Huang High School             97          84          0   \n",
       "\n",
       "       type  size   budget  \n",
       "0  District  2917  1910635  \n",
       "1  District  2917  1910635  \n",
       "2  District  2917  1910635  \n",
       "3  District  2917  1910635  \n",
       "4  District  2917  1910635  "
      ]
     },
     "execution_count": 2,
     "metadata": {},
     "output_type": "execute_result"
    }
   ],
   "source": [
    "#drop unneccessary information\n",
    "school_cleaned_df = school_data_complete_df.drop(school_data_complete_df.columns[1:4], axis = 1)\n",
    "#rename School ID column\n",
    "school_cleaned_df = school_cleaned_df.rename(columns={\"School ID\": \"school_id\", \"Student ID\": \"student_id\"})\n",
    "school_cleaned_df.head()"
   ]
  },
  {
   "cell_type": "code",
   "execution_count": 3,
   "metadata": {},
   "outputs": [
    {
     "data": {
      "text/plain": [
       "student_id        int64\n",
       "school_name      object\n",
       "reading_score     int64\n",
       "math_score        int64\n",
       "school_id         int64\n",
       "type             object\n",
       "size              int64\n",
       "budget            int64\n",
       "dtype: object"
      ]
     },
     "execution_count": 3,
     "metadata": {},
     "output_type": "execute_result"
    }
   ],
   "source": [
    "school_cleaned_df.dtypes"
   ]
  },
  {
   "cell_type": "markdown",
   "metadata": {},
   "source": [
    "## District Summary\n",
    "\n",
    "* Calculate the total number of schools\n",
    "\n",
    "* Calculate the total number of students\n",
    "\n",
    "* Calculate the total budget\n",
    "\n",
    "* Calculate the average math score \n",
    "\n",
    "* Calculate the average reading score\n",
    "\n",
    "* Calculate the percentage of students with a passing math score (70 or greater)\n",
    "\n",
    "* Calculate the percentage of students with a passing reading score (70 or greater)\n",
    "\n",
    "* Calculate the percentage of students who passed math **and** reading (% Overall Passing)\n",
    "\n",
    "* Create a dataframe to hold the above results\n",
    "\n",
    "* Optional: give the displayed data cleaner formatting"
   ]
  },
  {
   "cell_type": "code",
   "execution_count": 4,
   "metadata": {},
   "outputs": [
    {
     "name": "stdout",
     "output_type": "stream",
     "text": [
      "Bailey High School       4976\n",
      "Johnson High School      4761\n",
      "Hernandez High School    4635\n",
      "Rodriguez High School    3999\n",
      "Figueroa High School     2949\n",
      "Huang High School        2917\n",
      "Ford High School         2739\n",
      "Wilson High School       2283\n",
      "Cabrera High School      1858\n",
      "Wright High School       1800\n",
      "Shelton High School      1761\n",
      "Thomas High School       1635\n",
      "Griffin High School      1468\n",
      "Pena High School          962\n",
      "Holden High School        427\n",
      "Name: school_name, dtype: int64\n"
     ]
    }
   ],
   "source": [
    "#calculate total number of schools\n",
    "num_schools = school_cleaned_df[\"school_name\"].value_counts()\n",
    "print(num_schools)"
   ]
  },
  {
   "cell_type": "code",
   "execution_count": 5,
   "metadata": {},
   "outputs": [
    {
     "name": "stdout",
     "output_type": "stream",
     "text": [
      "15\n"
     ]
    }
   ],
   "source": [
    "total_schools = num_schools.count()\n",
    "print(total_schools)"
   ]
  },
  {
   "cell_type": "code",
   "execution_count": 6,
   "metadata": {},
   "outputs": [
    {
     "name": "stdout",
     "output_type": "stream",
     "text": [
      "39170\n"
     ]
    }
   ],
   "source": [
    "#Calculate total number of students\n",
    "dist_students = len(school_cleaned_df)\n",
    "print(dist_students)"
   ]
  },
  {
   "cell_type": "code",
   "execution_count": 7,
   "metadata": {},
   "outputs": [
    {
     "name": "stdout",
     "output_type": "stream",
     "text": [
      "{0: 1910635, 1: 1884411, 2: 1056600, 3: 3022020, 4: 917500, 5: 1319574, 6: 1081356, 7: 3124928, 8: 248087, 9: 585858, 10: 1049400, 11: 2547363, 12: 3094650, 13: 1763916, 14: 1043130}\n",
      "{0: 'Huang High School', 1: 'Figueroa High School', 2: 'Shelton High School', 3: 'Hernandez High School', 4: 'Griffin High School', 5: 'Wilson High School', 6: 'Cabrera High School', 7: 'Bailey High School', 8: 'Holden High School', 9: 'Pena High School', 10: 'Wright High School', 11: 'Rodriguez High School', 12: 'Johnson High School', 13: 'Ford High School', 14: 'Thomas High School'}\n",
      "{0: 'District', 1: 'District', 2: 'Charter', 3: 'District', 4: 'Charter', 5: 'Charter', 6: 'Charter', 7: 'District', 8: 'Charter', 9: 'Charter', 10: 'Charter', 11: 'District', 12: 'District', 13: 'District', 14: 'Charter'}\n"
     ]
    }
   ],
   "source": [
    "#Create dictionaries keyed on school id\n",
    "budgets_dict = dict(zip(school_cleaned_df.school_id, school_cleaned_df.budget))\n",
    "names_dict = dict(zip(school_cleaned_df.school_id, school_cleaned_df.school_name))\n",
    "types_dict = dict(zip(school_cleaned_df.school_id, school_cleaned_df.type))\n",
    "print(budgets_dict)\n",
    "print(names_dict)\n",
    "print(types_dict)"
   ]
  },
  {
   "cell_type": "code",
   "execution_count": 8,
   "metadata": {},
   "outputs": [
    {
     "name": "stdout",
     "output_type": "stream",
     "text": [
      "24649428\n"
     ]
    }
   ],
   "source": [
    "#Calculate the total budget\n",
    "budget_total = sum(budgets_dict.values())\n",
    "print(budget_total)"
   ]
  },
  {
   "cell_type": "code",
   "execution_count": 9,
   "metadata": {},
   "outputs": [
    {
     "name": "stdout",
     "output_type": "stream",
     "text": [
      "3093857\n"
     ]
    }
   ],
   "source": [
    "#Add total district math scores\n",
    "dist_math = school_cleaned_df.loc[:,\"math_score\"].sum()\n",
    "print(dist_math)"
   ]
  },
  {
   "cell_type": "code",
   "execution_count": 10,
   "metadata": {},
   "outputs": [
    {
     "name": "stdout",
     "output_type": "stream",
     "text": [
      "78.98537145774827\n"
     ]
    }
   ],
   "source": [
    "#Calculate the average math score \n",
    "dist_math_avg = dist_math / dist_students\n",
    "print(dist_math_avg)"
   ]
  },
  {
   "cell_type": "code",
   "execution_count": 11,
   "metadata": {},
   "outputs": [
    {
     "name": "stdout",
     "output_type": "stream",
     "text": [
      "3207155\n"
     ]
    }
   ],
   "source": [
    "#Add total district reading scores\n",
    "dist_reading = school_cleaned_df.loc[:,\"reading_score\"].sum()\n",
    "print(dist_reading)"
   ]
  },
  {
   "cell_type": "code",
   "execution_count": 12,
   "metadata": {},
   "outputs": [
    {
     "name": "stdout",
     "output_type": "stream",
     "text": [
      "81.87784018381414\n"
     ]
    }
   ],
   "source": [
    "#Calculate the average reading score\n",
    "dist_reading_avg = dist_reading / dist_students\n",
    "print(dist_reading_avg)"
   ]
  },
  {
   "cell_type": "code",
   "execution_count": 13,
   "metadata": {},
   "outputs": [
    {
     "name": "stdout",
     "output_type": "stream",
     "text": [
      "29370\n"
     ]
    }
   ],
   "source": [
    "#Calculate number of students w passing math score\n",
    "dist_math_passing_df = school_cleaned_df.loc[school_cleaned_df[\"math_score\"] >= 70]\n",
    "#dist_math_passing_df.head()\n",
    "\n",
    "dist_num_math = dist_math_passing_df[\"student_id\"].count()\n",
    "print(dist_num_math)"
   ]
  },
  {
   "cell_type": "code",
   "execution_count": 51,
   "metadata": {},
   "outputs": [],
   "source": [
    "#Calculate number of passing math students by school\n",
    "#https://stackoverflow.com/questions/29876184/groupby-results-to-dictionary-of-lists\n",
    "school_math_passing_dict = {k: list(v) for k, v in dist_math_passing_df.groupby(\"school_id\")[\"student_id\"]}\n",
    "#print(school_math_passing_dict)\n",
    "#len(school_math_passing)"
   ]
  },
  {
   "cell_type": "code",
   "execution_count": 24,
   "metadata": {},
   "outputs": [
    {
     "name": "stdout",
     "output_type": "stream",
     "text": [
      "33610\n"
     ]
    }
   ],
   "source": [
    "#Calculate number of students w passing reading score\n",
    "dist_reading_passing_df = school_cleaned_df.loc[school_cleaned_df[\"reading_score\"] >= 70]\n",
    "#dist_reading_passing_df.head()\n",
    "\n",
    "dist_num_reading = dist_reading_passing_df[\"student_id\"].count()\n",
    "print(dist_num_reading)"
   ]
  },
  {
   "cell_type": "code",
   "execution_count": 53,
   "metadata": {},
   "outputs": [],
   "source": [
    "#Calculate number of passing reading students by school\n",
    "school_reading_passing_dict = {k: list(v) for k, v in dist_reading_passing_df.groupby(\"school_id\")[\"student_id\"]}\n",
    "#print(school_reading_passing_dict)\n",
    "#len(school_reading_passing)"
   ]
  },
  {
   "cell_type": "code",
   "execution_count": 26,
   "metadata": {},
   "outputs": [
    {
     "name": "stdout",
     "output_type": "stream",
     "text": [
      "74.9808526933878\n",
      "85.80546336482001\n"
     ]
    }
   ],
   "source": [
    "#Calculate Percentage of passing students\n",
    "dist_math_percent = (dist_num_math / dist_students) * 100\n",
    "dist_reading_percent = (dist_num_reading / dist_students) * 100\n",
    "print(dist_math_percent)\n",
    "print(dist_reading_percent)"
   ]
  },
  {
   "cell_type": "code",
   "execution_count": 27,
   "metadata": {},
   "outputs": [
    {
     "data": {
      "text/html": [
       "<div>\n",
       "<style scoped>\n",
       "    .dataframe tbody tr th:only-of-type {\n",
       "        vertical-align: middle;\n",
       "    }\n",
       "\n",
       "    .dataframe tbody tr th {\n",
       "        vertical-align: top;\n",
       "    }\n",
       "\n",
       "    .dataframe thead th {\n",
       "        text-align: right;\n",
       "    }\n",
       "</style>\n",
       "<table border=\"1\" class=\"dataframe\">\n",
       "  <thead>\n",
       "    <tr style=\"text-align: right;\">\n",
       "      <th></th>\n",
       "      <th>student_id</th>\n",
       "      <th>school_name_x</th>\n",
       "      <th>reading_score_x</th>\n",
       "      <th>math_score_x</th>\n",
       "      <th>school_id_x</th>\n",
       "      <th>type_x</th>\n",
       "      <th>size_x</th>\n",
       "      <th>budget_x</th>\n",
       "      <th>school_name_y</th>\n",
       "      <th>reading_score_y</th>\n",
       "      <th>math_score_y</th>\n",
       "      <th>school_id_y</th>\n",
       "      <th>type_y</th>\n",
       "      <th>size_y</th>\n",
       "      <th>budget_y</th>\n",
       "    </tr>\n",
       "  </thead>\n",
       "  <tbody>\n",
       "    <tr>\n",
       "      <th>0</th>\n",
       "      <td>4</td>\n",
       "      <td>Huang High School</td>\n",
       "      <td>97</td>\n",
       "      <td>84</td>\n",
       "      <td>0</td>\n",
       "      <td>District</td>\n",
       "      <td>2917</td>\n",
       "      <td>1910635</td>\n",
       "      <td>Huang High School</td>\n",
       "      <td>97</td>\n",
       "      <td>84</td>\n",
       "      <td>0</td>\n",
       "      <td>District</td>\n",
       "      <td>2917</td>\n",
       "      <td>1910635</td>\n",
       "    </tr>\n",
       "    <tr>\n",
       "      <th>1</th>\n",
       "      <td>5</td>\n",
       "      <td>Huang High School</td>\n",
       "      <td>94</td>\n",
       "      <td>94</td>\n",
       "      <td>0</td>\n",
       "      <td>District</td>\n",
       "      <td>2917</td>\n",
       "      <td>1910635</td>\n",
       "      <td>Huang High School</td>\n",
       "      <td>94</td>\n",
       "      <td>94</td>\n",
       "      <td>0</td>\n",
       "      <td>District</td>\n",
       "      <td>2917</td>\n",
       "      <td>1910635</td>\n",
       "    </tr>\n",
       "    <tr>\n",
       "      <th>2</th>\n",
       "      <td>6</td>\n",
       "      <td>Huang High School</td>\n",
       "      <td>82</td>\n",
       "      <td>80</td>\n",
       "      <td>0</td>\n",
       "      <td>District</td>\n",
       "      <td>2917</td>\n",
       "      <td>1910635</td>\n",
       "      <td>Huang High School</td>\n",
       "      <td>82</td>\n",
       "      <td>80</td>\n",
       "      <td>0</td>\n",
       "      <td>District</td>\n",
       "      <td>2917</td>\n",
       "      <td>1910635</td>\n",
       "    </tr>\n",
       "    <tr>\n",
       "      <th>3</th>\n",
       "      <td>8</td>\n",
       "      <td>Huang High School</td>\n",
       "      <td>95</td>\n",
       "      <td>87</td>\n",
       "      <td>0</td>\n",
       "      <td>District</td>\n",
       "      <td>2917</td>\n",
       "      <td>1910635</td>\n",
       "      <td>Huang High School</td>\n",
       "      <td>95</td>\n",
       "      <td>87</td>\n",
       "      <td>0</td>\n",
       "      <td>District</td>\n",
       "      <td>2917</td>\n",
       "      <td>1910635</td>\n",
       "    </tr>\n",
       "    <tr>\n",
       "      <th>4</th>\n",
       "      <td>9</td>\n",
       "      <td>Huang High School</td>\n",
       "      <td>96</td>\n",
       "      <td>84</td>\n",
       "      <td>0</td>\n",
       "      <td>District</td>\n",
       "      <td>2917</td>\n",
       "      <td>1910635</td>\n",
       "      <td>Huang High School</td>\n",
       "      <td>96</td>\n",
       "      <td>84</td>\n",
       "      <td>0</td>\n",
       "      <td>District</td>\n",
       "      <td>2917</td>\n",
       "      <td>1910635</td>\n",
       "    </tr>\n",
       "  </tbody>\n",
       "</table>\n",
       "</div>"
      ],
      "text/plain": [
       "   student_id      school_name_x  reading_score_x  math_score_x  school_id_x  \\\n",
       "0           4  Huang High School               97            84            0   \n",
       "1           5  Huang High School               94            94            0   \n",
       "2           6  Huang High School               82            80            0   \n",
       "3           8  Huang High School               95            87            0   \n",
       "4           9  Huang High School               96            84            0   \n",
       "\n",
       "     type_x  size_x  budget_x      school_name_y  reading_score_y  \\\n",
       "0  District    2917   1910635  Huang High School               97   \n",
       "1  District    2917   1910635  Huang High School               94   \n",
       "2  District    2917   1910635  Huang High School               82   \n",
       "3  District    2917   1910635  Huang High School               95   \n",
       "4  District    2917   1910635  Huang High School               96   \n",
       "\n",
       "   math_score_y  school_id_y    type_y  size_y  budget_y  \n",
       "0            84            0  District    2917   1910635  \n",
       "1            94            0  District    2917   1910635  \n",
       "2            80            0  District    2917   1910635  \n",
       "3            87            0  District    2917   1910635  \n",
       "4            84            0  District    2917   1910635  "
      ]
     },
     "execution_count": 27,
     "metadata": {},
     "output_type": "execute_result"
    }
   ],
   "source": [
    "#Calculate number of students passing both\n",
    "#This feels inelegant; come back to this section\n",
    "dist_passing_merged_df = pd.merge(dist_math_passing_df, dist_reading_passing_df, on=\"student_id\", how=\"inner\")\n",
    "dist_passing_merged_df.head()"
   ]
  },
  {
   "cell_type": "code",
   "execution_count": 32,
   "metadata": {},
   "outputs": [
    {
     "name": "stdout",
     "output_type": "stream",
     "text": [
      "25528\n"
     ]
    }
   ],
   "source": [
    "dist_num_both = dist_passing_merged_df[\"student_id\"].count()\n",
    "print(dist_num_both)"
   ]
  },
  {
   "cell_type": "code",
   "execution_count": 55,
   "metadata": {},
   "outputs": [],
   "source": [
    "#Calculate the number of students passing both by school\n",
    "school_passing_both_dict = {k: list(v) for k, v in dist_passing_merged_df.groupby(\"school_id_x\")[\"student_id\"]}\n",
    "#print(school_passing_both_dict)"
   ]
  },
  {
   "cell_type": "code",
   "execution_count": 37,
   "metadata": {},
   "outputs": [
    {
     "name": "stdout",
     "output_type": "stream",
     "text": [
      "65.17232575950983\n"
     ]
    }
   ],
   "source": [
    "#Calculate percentage of dual-passing students\n",
    "dist_both_percent = (dist_num_both / dist_students) * 100\n",
    "print(dist_both_percent)"
   ]
  },
  {
   "cell_type": "code",
   "execution_count": 38,
   "metadata": {},
   "outputs": [
    {
     "data": {
      "text/html": [
       "<div>\n",
       "<style scoped>\n",
       "    .dataframe tbody tr th:only-of-type {\n",
       "        vertical-align: middle;\n",
       "    }\n",
       "\n",
       "    .dataframe tbody tr th {\n",
       "        vertical-align: top;\n",
       "    }\n",
       "\n",
       "    .dataframe thead th {\n",
       "        text-align: right;\n",
       "    }\n",
       "</style>\n",
       "<table border=\"1\" class=\"dataframe\">\n",
       "  <thead>\n",
       "    <tr style=\"text-align: right;\">\n",
       "      <th></th>\n",
       "      <th>Total Schools</th>\n",
       "      <th>Total Students</th>\n",
       "      <th>Total Budget</th>\n",
       "      <th>Average Math Score</th>\n",
       "      <th>Average Reading Score</th>\n",
       "      <th>% Passing Math</th>\n",
       "      <th>% Passing Reading</th>\n",
       "      <th>% Overall Passing</th>\n",
       "    </tr>\n",
       "  </thead>\n",
       "  <tbody>\n",
       "    <tr>\n",
       "      <th>0</th>\n",
       "      <td>15</td>\n",
       "      <td>39,170</td>\n",
       "      <td>$24,649,428.00</td>\n",
       "      <td>78.985371</td>\n",
       "      <td>81.877840</td>\n",
       "      <td>74.980853%</td>\n",
       "      <td>85.805463%</td>\n",
       "      <td>65.172326%</td>\n",
       "    </tr>\n",
       "  </tbody>\n",
       "</table>\n",
       "</div>"
      ],
      "text/plain": [
       "   Total Schools Total Students    Total Budget Average Math Score  \\\n",
       "0             15         39,170  $24,649,428.00          78.985371   \n",
       "\n",
       "  Average Reading Score % Passing Math % Passing Reading % Overall Passing  \n",
       "0             81.877840     74.980853%        85.805463%        65.172326%  "
      ]
     },
     "execution_count": 38,
     "metadata": {},
     "output_type": "execute_result"
    }
   ],
   "source": [
    "#Build district summary data frame\n",
    "district_summary_df = pd.DataFrame({\"Total Schools\" : [total_schools],\n",
    "                                    \"Total Students\" : dist_students,\n",
    "                                    \"Total Budget\" : budget_total,\n",
    "                                    \"Average Math Score\" : dist_math_avg,\n",
    "                                    \"Average Reading Score\" : dist_reading_avg,\n",
    "                                    \"% Passing Math\" : dist_math_percent,\n",
    "                                    \"% Passing Reading\" : dist_reading_percent,\n",
    "                                    \"% Overall Passing\": dist_both_percent\n",
    "                                   })\n",
    "#Format entries : \n",
    "#https://stackoverflow.com/questions/32744997/python-pandas-apply-formatting-to-each-column-in-dataframe-using-a-dict-mapping\n",
    "format_mapping = {\"Total Students\" : \"{:,}\", \n",
    "                  \"Total Budget\" : \"${:,.2f}\", \n",
    "                  \"Average Math Score\" : \"{:.6f}\", \n",
    "                  \"Average Reading Score\" : \"{:.6f}\", \n",
    "                  \"% Passing Math\" : \"{:.6f}%\",\n",
    "                  \"% Passing Reading\" : \"{:.6f}%\",\n",
    "                  \"% Overall Passing\" : \"{:.6f}%\"\n",
    "                 }\n",
    "#apply formatting\n",
    "for key, value in format_mapping.items():\n",
    "       district_summary_df[key] = district_summary_df[key].apply(value.format)\n",
    "district_summary_df"
   ]
  },
  {
   "cell_type": "markdown",
   "metadata": {},
   "source": [
    "## School Summary"
   ]
  },
  {
   "cell_type": "markdown",
   "metadata": {},
   "source": [
    "* Create an overview table that summarizes key metrics about each school, including:\n",
    "  * School Name\n",
    "  * School Type\n",
    "  * Total Students\n",
    "  * Total School Budget\n",
    "  * Per Student Budget\n",
    "  * Average Math Score\n",
    "  * Average Reading Score\n",
    "  * % Passing Math\n",
    "  * % Passing Reading\n",
    "  * % Overall Passing (The percentage of students that passed math **and** reading.)\n",
    "  \n",
    "* Create a dataframe to hold the above results"
   ]
  },
  {
   "cell_type": "code",
   "execution_count": 39,
   "metadata": {},
   "outputs": [
    {
     "name": "stdout",
     "output_type": "stream",
     "text": [
      "[2917, 2949, 1761, 4635, 1468, 2283, 1858, 4976, 427, 962, 1800, 3999, 4761, 2739, 1635]\n"
     ]
    }
   ],
   "source": [
    "#Group by school and count students per school\n",
    "school_data_grouped = school_cleaned_df.groupby(school_cleaned_df.school_id)\n",
    "school_students = school_data_grouped[\"size\"].count()\n",
    "school_students_list = list(school_students)\n",
    "print(school_students_list)"
   ]
  },
  {
   "cell_type": "code",
   "execution_count": 40,
   "metadata": {},
   "outputs": [
    {
     "name": "stdout",
     "output_type": "stream",
     "text": [
      "['Huang High School', 'Figueroa High School', 'Shelton High School', 'Hernandez High School', 'Griffin High School', 'Wilson High School', 'Cabrera High School', 'Bailey High School', 'Holden High School', 'Pena High School', 'Wright High School', 'Rodriguez High School', 'Johnson High School', 'Ford High School', 'Thomas High School']\n"
     ]
    }
   ],
   "source": [
    "#Retrieve school names\n",
    "school_name_list = list(names_dict.values())\n",
    "print(school_name_list)"
   ]
  },
  {
   "cell_type": "code",
   "execution_count": 41,
   "metadata": {},
   "outputs": [
    {
     "name": "stdout",
     "output_type": "stream",
     "text": [
      "['District', 'District', 'Charter', 'District', 'Charter', 'Charter', 'Charter', 'District', 'Charter', 'Charter', 'Charter', 'District', 'District', 'District', 'Charter']\n"
     ]
    }
   ],
   "source": [
    "#Retrieve school types\n",
    "school_type_list = list(types_dict.values())\n",
    "print(school_type_list)"
   ]
  },
  {
   "cell_type": "code",
   "execution_count": 42,
   "metadata": {},
   "outputs": [
    {
     "name": "stdout",
     "output_type": "stream",
     "text": [
      "[1910635, 1884411, 1056600, 3022020, 917500, 1319574, 1081356, 3124928, 248087, 585858, 1049400, 2547363, 3094650, 1763916, 1043130]\n"
     ]
    }
   ],
   "source": [
    "#Retrieve individual school budgets\n",
    "school_budget_list = list(budgets_dict.values())\n",
    "print(school_budget_list)"
   ]
  },
  {
   "cell_type": "code",
   "execution_count": 43,
   "metadata": {},
   "outputs": [
    {
     "name": "stdout",
     "output_type": "stream",
     "text": [
      "[655.0, 639.0, 600.0, 652.0, 625.0, 578.0, 582.0, 628.0, 581.0, 609.0, 583.0, 637.0, 650.0, 644.0, 638.0]\n"
     ]
    }
   ],
   "source": [
    "#Calculate per-student budgets per school\n",
    "per_student_budget = [b/s for b, s in zip(school_budget_list, school_students_list)]\n",
    "print(per_student_budget)"
   ]
  },
  {
   "cell_type": "code",
   "execution_count": 47,
   "metadata": {},
   "outputs": [],
   "source": [
    "#calculate total math score by school\n",
    "school_math = (school_data_grouped[\"math_score\"].sum()) \n",
    "#print(school_math)"
   ]
  },
  {
   "cell_type": "code",
   "execution_count": 45,
   "metadata": {},
   "outputs": [
    {
     "name": "stdout",
     "output_type": "stream",
     "text": [
      "[76.62941378128214, 76.71176670057646, 83.3594548551959, 77.28975188781014, 83.35149863760218, 83.2742006132282, 83.06189451022605, 77.04843247588424, 83.80327868852459, 83.83991683991684, 83.68222222222222, 76.84271067766942, 77.07246376811594, 77.10259218692954, 83.4183486238532]\n"
     ]
    }
   ],
   "source": [
    "#Calculate average math score by school\n",
    "school_math_avg = list(school_math / school_students)\n",
    "print(school_math_avg)"
   ]
  },
  {
   "cell_type": "code",
   "execution_count": 48,
   "metadata": {},
   "outputs": [],
   "source": [
    "#Calculate total reading score by school\n",
    "school_reading = school_data_grouped[\"reading_score\"].sum()\n",
    "#print(school_reading)"
   ]
  },
  {
   "cell_type": "code",
   "execution_count": 49,
   "metadata": {},
   "outputs": [
    {
     "name": "stdout",
     "output_type": "stream",
     "text": [
      "[81.18272197463148, 81.15801966768396, 83.72572402044293, 80.9344120819849, 83.816757493188, 83.98948751642575, 83.97578040904197, 81.03396302250803, 83.81498829039812, 84.04469854469855, 83.955, 80.74468617154288, 80.96639361478681, 80.74625775830594, 83.84892966360856]\n"
     ]
    }
   ],
   "source": [
    "#Calcualte average reading score by school\n",
    "school_reading_avg = list(school_reading / school_students)\n",
    "print(school_reading_avg)"
   ]
  },
  {
   "cell_type": "code",
   "execution_count": 75,
   "metadata": {},
   "outputs": [
    {
     "name": "stdout",
     "output_type": "stream",
     "text": [
      "{0: 1916, 1: 1946, 2: 1653, 3: 3094, 4: 1371, 5: 2143, 6: 1749, 7: 3318, 8: 395, 9: 910, 10: 1680, 11: 2654, 12: 3145, 13: 1871, 14: 1525}\n"
     ]
    }
   ],
   "source": [
    "#Calcualte number of passing math scores per school\n",
    "#print(school_math_passing_dict)\n",
    "school_math_passing = {k:len(v) for k, v in school_math_passing_dict.items()}        \n",
    "print(school_math_passing)"
   ]
  },
  {
   "cell_type": "code",
   "execution_count": 76,
   "metadata": {},
   "outputs": [
    {
     "name": "stdout",
     "output_type": "stream",
     "text": [
      "{0: 2372, 1: 2381, 2: 1688, 3: 3748, 4: 1426, 5: 2204, 6: 1803, 7: 4077, 8: 411, 9: 923, 10: 1739, 11: 3208, 12: 3867, 13: 2172, 14: 1591}\n"
     ]
    }
   ],
   "source": [
    "#Calculate number of passing reading scores per school\n",
    "school_reading_passing = {k:len(v) for k, v in school_reading_passing_dict.items()}\n",
    "print(school_reading_passing)"
   ]
  },
  {
   "cell_type": "code",
   "execution_count": 77,
   "metadata": {},
   "outputs": [
    {
     "name": "stdout",
     "output_type": "stream",
     "text": [
      "{0: 1561, 1: 1569, 2: 1583, 3: 2481, 4: 1330, 5: 2068, 6: 1697, 7: 2719, 8: 381, 9: 871, 10: 1626, 11: 2119, 12: 2549, 13: 1487, 14: 1487}\n"
     ]
    }
   ],
   "source": [
    "#Calculate number of passing students per school\n",
    "school_passing_both = {k:len(v) for k, v in school_passing_both_dict.items()}\n",
    "print(school_passing_both)"
   ]
  },
  {
   "cell_type": "code",
   "execution_count": null,
   "metadata": {},
   "outputs": [],
   "source": [
    "school_summary_df = pd.DataFrame({\"School Name\" : school_name_list,\n",
    "                                  \"School Type\" : school_type_list,\n",
    "                                  \"Total Students\" : school_students_list,\n",
    "                                  \"Total School Budget\" : school_budget_list,\n",
    "                                  \"Per Student Budget\" : per_student_budget,\n",
    "                                  \"Average Math Score\" : school_math_avg,\n",
    "                                  \"Average Reading Score\" : school_reading_avg,\n",
    "                                  })\n",
    "school_summary_df.head()"
   ]
  },
  {
   "cell_type": "markdown",
   "metadata": {},
   "source": [
    "## Top Performing Schools (By % Overall Passing)"
   ]
  },
  {
   "cell_type": "markdown",
   "metadata": {},
   "source": [
    "* Sort and display the top five performing schools by % overall passing."
   ]
  },
  {
   "cell_type": "code",
   "execution_count": null,
   "metadata": {
    "scrolled": true
   },
   "outputs": [],
   "source": []
  },
  {
   "cell_type": "markdown",
   "metadata": {},
   "source": [
    "## Bottom Performing Schools (By % Overall Passing)"
   ]
  },
  {
   "cell_type": "markdown",
   "metadata": {},
   "source": [
    "* Sort and display the five worst-performing schools by % overall passing."
   ]
  },
  {
   "cell_type": "code",
   "execution_count": null,
   "metadata": {},
   "outputs": [],
   "source": []
  },
  {
   "cell_type": "markdown",
   "metadata": {
    "collapsed": true
   },
   "source": [
    "## Math Scores by Grade"
   ]
  },
  {
   "cell_type": "markdown",
   "metadata": {},
   "source": [
    "* Create a table that lists the average Reading Score for students of each grade level (9th, 10th, 11th, 12th) at each school.\n",
    "\n",
    "  * Create a pandas series for each grade. Hint: use a conditional statement.\n",
    "  \n",
    "  * Group each series by school\n",
    "  \n",
    "  * Combine the series into a dataframe\n",
    "  \n",
    "  * Optional: give the displayed data cleaner formatting"
   ]
  },
  {
   "cell_type": "code",
   "execution_count": null,
   "metadata": {},
   "outputs": [],
   "source": []
  },
  {
   "cell_type": "markdown",
   "metadata": {},
   "source": [
    "## Reading Score by Grade "
   ]
  },
  {
   "cell_type": "markdown",
   "metadata": {},
   "source": [
    "* Perform the same operations as above for reading scores"
   ]
  },
  {
   "cell_type": "code",
   "execution_count": null,
   "metadata": {},
   "outputs": [],
   "source": []
  },
  {
   "cell_type": "markdown",
   "metadata": {},
   "source": [
    "## Scores by School Spending"
   ]
  },
  {
   "cell_type": "markdown",
   "metadata": {},
   "source": [
    "* Create a table that breaks down school performances based on average Spending Ranges (Per Student). Use 4 reasonable bins to group school spending. Include in the table each of the following:\n",
    "  * Average Math Score\n",
    "  * Average Reading Score\n",
    "  * % Passing Math\n",
    "  * % Passing Reading\n",
    "  * Overall Passing Rate (Average of the above two)"
   ]
  },
  {
   "cell_type": "code",
   "execution_count": null,
   "metadata": {},
   "outputs": [],
   "source": []
  },
  {
   "cell_type": "markdown",
   "metadata": {},
   "source": [
    "## Scores by School Size"
   ]
  },
  {
   "cell_type": "markdown",
   "metadata": {},
   "source": [
    "* Perform the same operations as above, based on school size."
   ]
  },
  {
   "cell_type": "code",
   "execution_count": null,
   "metadata": {
    "scrolled": true
   },
   "outputs": [],
   "source": []
  },
  {
   "cell_type": "markdown",
   "metadata": {},
   "source": [
    "## Scores by School Type"
   ]
  },
  {
   "cell_type": "markdown",
   "metadata": {},
   "source": [
    "* Perform the same operations as above, based on school type"
   ]
  },
  {
   "cell_type": "code",
   "execution_count": null,
   "metadata": {},
   "outputs": [],
   "source": []
  },
  {
   "cell_type": "code",
   "execution_count": null,
   "metadata": {},
   "outputs": [],
   "source": []
  }
 ],
 "metadata": {
  "anaconda-cloud": {},
  "kernel_info": {
   "name": "python3"
  },
  "kernelspec": {
   "display_name": "Python 3",
   "language": "python",
   "name": "python3"
  },
  "language_info": {
   "codemirror_mode": {
    "name": "ipython",
    "version": 3
   },
   "file_extension": ".py",
   "mimetype": "text/x-python",
   "name": "python",
   "nbconvert_exporter": "python",
   "pygments_lexer": "ipython3",
   "version": "3.6.10"
  },
  "latex_envs": {
   "LaTeX_envs_menu_present": true,
   "autoclose": false,
   "autocomplete": true,
   "bibliofile": "biblio.bib",
   "cite_by": "apalike",
   "current_citInitial": 1,
   "eqLabelWithNumbers": true,
   "eqNumInitial": 1,
   "hotkeys": {
    "equation": "Ctrl-E",
    "itemize": "Ctrl-I"
   },
   "labels_anchors": false,
   "latex_user_defs": false,
   "report_style_numbering": false,
   "user_envs_cfg": false
  },
  "nteract": {
   "version": "0.8.4"
  }
 },
 "nbformat": 4,
 "nbformat_minor": 1
}
